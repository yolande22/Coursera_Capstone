{
    "cells": [
        {
            "cell_type": "markdown",
            "metadata": {},
            "source": "\n\n<table>\n    <tr>\n        <td><img src = \"https://cdn.pixabay.com/photo/2020/06/06/06/58/new-york-5265458_960_720.jpg\" width = 670></td>\n        <td><img src = \"https://cdn.pixabay.com/photo/2012/02/25/19/06/downtown-16916__340.jpg\" width = 600></td>\n    </tr>\n    <tr>\n        <td><h2 align=center><font size = 5>Downtown New York City</font></h2></td>\n        <td><h2 align=center><font size = 5>Downtown Toronto City</font></h2></td>\n    </tr>       \n\n</table>\n \n\n\n"
        },
        {
            "cell_type": "markdown",
            "metadata": {},
            "source": "# SIMILARITY AND DISSIMILARITY BETWEEN DOWNTOWN NEW YORK (MANHATTAN) AND DOWNTOWN TORONTO CITIES"
        },
        {
            "cell_type": "markdown",
            "metadata": {},
            "source": "# Business understanding"
        },
        {
            "cell_type": "markdown",
            "metadata": {},
            "source": "## Background\n\nManhattan is the most densely populated of New York City\u2019s 5 boroughs. It's mostly made up of Manhattan Island, bounded by the Hudson, East and Harlem rivers. Among the world\u2019s major commercial, financial and cultural centers, it\u2019s the heart of \u201cthe Big Apple.\u201d Its iconic sites include skyscrapers such as the Empire State Building, neon-lit Times Square and the theaters of Broadway. Downtown Toronto is a buzzing area filled with skyscrapers, restaurants, nightlife, and an eclectic mix of neighbourhoods. It\u2019s also home to iconic attractions like the CN Tower, St. Lawrence Market, and the Royal Ontario Museum, with exhibits on natural history. Bloor Street is an upscale shopping area, and the Eaton Centre is a huge, multistory mall. On the lake, the Harbourfront area has parks and cultural venues. \nLower Manhattan, also known as Downtown Manhattan or Downtown New York, is the southernmost part of Manhattan, the central borough for business, culture, and government in New York City. What can be the similarity and the dissimilarity between the neighborhoods of the two boroughs: Manhattan and Downtown Toronto? Is Downtown Toronto more like Downtown New York? \n\n"
        },
        {
            "cell_type": "markdown",
            "metadata": {},
            "source": "## Interest\n\nSince this report will include information about foursquare location on Toronto and New York cities, the study will interest the mayors of both cities to help them evaluate the downtowns\u2019 organization. Indeed it will allow them to open objective discussion and to take informed decisions for the cities infrastructures. The study will also serve as an accessible reference for the entrepreneurs of both cities to develop some areas of business which are showing dissimilarity."
        },
        {
            "cell_type": "markdown",
            "metadata": {},
            "source": "## Analytic approach\n\nSince the business problem has been clearly stated, the analytic approach step entails expressing the problem in the context of statistical and machine-learning techniques, so that the entity or stakeholders with the problem can identify the most suitable techniques for the desired outcome.\nIn this case study according to the goal, it is a clustering problem. The suitable model for the geographical data will be k-means. \nCriteria for data requirements: data selected should be New York and Toronto geographical data.\n\n### How data will be used to solve the problem.\n-\tData will help to analyse and build the model.  We need extensive data of different neighborhoods.\n-\tThe machine learning model should be able to predict the clusters similarity\n-\tTo build a good model, the dataset should be rich and contain many observations (rows) and various neighborhoods.\n\n#### Here are the steps that we will follow:\n-\tData wrangling: to identify and handle missing value, to standardize and normalize the data. \n-\tData exploratory by analyzing neighborhoods using visualization, descriptive statistical analysis\n-\tModel development: k-means will be developed to predict the clusters. A Model will help to understand the exact relationship both cities.\n"
        },
        {
            "cell_type": "markdown",
            "metadata": {},
            "source": "# Thanks!"
        }
    ],
    "metadata": {
        "kernelspec": {
            "display_name": "Python 3.7",
            "language": "python",
            "name": "python3"
        },
        "language_info": {
            "codemirror_mode": {
                "name": "ipython",
                "version": 3
            },
            "file_extension": ".py",
            "mimetype": "text/x-python",
            "name": "python",
            "nbconvert_exporter": "python",
            "pygments_lexer": "ipython3",
            "version": "3.7.9"
        },
        "widgets": {
            "state": {},
            "version": "1.1.2"
        }
    },
    "nbformat": 4,
    "nbformat_minor": 4
}