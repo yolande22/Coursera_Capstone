{
    "cells": [
        {
            "cell_type": "markdown",
            "metadata": {
                "collapsed": true
            },
            "source": "# DATA SCIENCE CAPSTONE PROJECT"
        },
        {
            "cell_type": "markdown",
            "metadata": {},
            "source": "This notebook intends to analyse the weather and the road conditions about the possibility of getting into a vehicle road accident and how severe it would be."
        },
        {
            "cell_type": "markdown",
            "metadata": {},
            "source": "# BACKGROUND"
        },
        {
            "cell_type": "markdown",
            "metadata": {},
            "source": "<p style=\"text-align: justify\"> Seattle, a city on Puget Sound in the Pacific Northwest, is surrounded by water, mountains and evergreen forests, and contains thousands of acres of parkland. Washington State\u2019s largest city, it\u2019s home to a large tech industry, with Microsoft and Amazon headquartered in its metropolitan area. The futuristic Space Needle, a 1962 World\u2019s Fair legacy, is its most iconic landmark. As the demands and complexity of Seattle\u2019s transportation network grow, the information supporting decisions about that network continues to expand and now includes significant data on pedestrians, bicycles, trucks, etc. The Seattle Department of Transportation (SDOT) collects and maintains datasets including volumes, speeds, and collisions. The use of this data, guided by department plans and policies, serves as the foundation for making informed decisions. At this end, this study is trying to put something in place that can warn about the possibility of getting into a road collision and how severe it would be based on the weather and the road conditions. </p>"
        },
        {
            "cell_type": "markdown",
            "metadata": {},
            "source": "# Interest"
        },
        {
            "cell_type": "markdown",
            "metadata": {},
            "source": "<div style=\"text-align: justify\"> Since this report will include information about traffic trends and traffic collisions on City of Seattle streets, the study will interest Seattle Department of Transportation (SDOT) and policies. Indeed it will allow them to open objective discussion and to take informed decisions for road safety. It will also serve as an accessible reference to warn drivers on the road precautions they need to take."
        },
        {
            "cell_type": "markdown",
            "metadata": {},
            "source": "# Analytic approach  "
        },
        {
            "cell_type": "markdown",
            "metadata": {},
            "source": "<div style=\"text-align: justify\"> Automate the process of warning people about the possibility of getting into a road collision and how severe it would be based on the weather and the road conditions is not a straightforward problem as we need to come up with a way that is very robust to the many variations of weathers and road conditions we can have.\n\nSince the business problem has been clearly stated, the analytic approach step entails expressing the problem in the context of statistical and machine-learning techniques, so that the entity or stakeholders with the problem can identify the most suitable techniques for the desired outcome."
        },
        {
            "cell_type": "markdown",
            "metadata": {},
            "source": "*\tWho: the data concern road collisions involving car, bicycle, pedestrian and vehicle.\n*\tWhat: the data measure the severity of the road accidents based on the weather and the road conditions \n*\tWhere: the data are collected on Seattle city in the state of Washington. The data are provided by SPD, recorded by Traffic Records and updated weekly\n*\tWhen: The period of collection is from 2004 to nowadays\n*\tWhy: Explained in the previous paragraph called _Interest_ "
        },
        {
            "cell_type": "markdown",
            "metadata": {},
            "source": "<div style=\"text-align: justify\"> In this case study according to the goal, it is a supervised machine learning problem. The suitable models for the discrete dependant variable \"severity\" are classification models like: K-Nearest Neighbours (KNN), Decision tree and SVM. Those three models will be applied and the model with the best accuracy value will be retained as the final model. So, Let's start with data description\n"
        }
    ],
    "metadata": {
        "kernelspec": {
            "display_name": "Python 3.6",
            "language": "python",
            "name": "python3"
        },
        "language_info": {
            "codemirror_mode": {
                "name": "ipython",
                "version": 3
            },
            "file_extension": ".py",
            "mimetype": "text/x-python",
            "name": "python",
            "nbconvert_exporter": "python",
            "pygments_lexer": "ipython3",
            "version": "3.6.9"
        }
    },
    "nbformat": 4,
    "nbformat_minor": 1
}