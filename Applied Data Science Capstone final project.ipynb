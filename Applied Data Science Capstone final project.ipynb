{
    "cells": [
        {
            "cell_type": "markdown",
            "metadata": {
                "collapsed": true
            },
            "source": "# DATA SCIENCE CAPSTONE PROJECT"
        },
        {
            "cell_type": "markdown",
            "metadata": {},
            "source": "This notebook intends to analyse the weather and the road conditions about the possibility of getting into a vehicle road accident and how severe it would be."
        },
        {
            "cell_type": "markdown",
            "metadata": {},
            "source": "## A description of the problem and a discussion of the background"
        },
        {
            "cell_type": "markdown",
            "metadata": {},
            "source": "<img src=\"http://crisp-dm.eu/wp-content/uploads/2013/07/busunderstand-980x200.jpg\">"
        },
        {
            "cell_type": "markdown",
            "metadata": {},
            "source": "### What is the problem that you are trying to solve?"
        },
        {
            "cell_type": "markdown",
            "metadata": {},
            "source": "Road collisions are one of the most death cause in our society. However we cannot deprive ourselves of using the road as a transport channel. So it is really important find a way to limit accident and to more empower drivers. \n**This study is trying to put something in place that can warn people of Seattle City about the possibility of getting into a road collision and how severe it would be based on the weather and the road conditions** ."
        },
        {
            "cell_type": "markdown",
            "metadata": {},
            "source": "### What\u2019s the goal?"
        },
        {
            "cell_type": "raw",
            "metadata": {},
            "source": "To provide information whether a vehicle could get into a road collision and how severe it would be."
        },
        {
            "cell_type": "markdown",
            "metadata": {},
            "source": "### What\u2019s the objectives supporting the goal?"
        },
        {
            "cell_type": "markdown",
            "metadata": {},
            "source": "*  To review the process of identifying the severity of a road collision\n*  To provide the weather and the road conditions causing the most severe road accidents\n\n"
        },
        {
            "cell_type": "markdown",
            "metadata": {},
            "source": "<img src=\"https://i.ytimg.com/vi/GL4IOKoH-4w/maxresdefault.jpg\" alt=\"drawing\" style=\"width:400px;\">"
        },
        {
            "cell_type": "markdown",
            "metadata": {},
            "source": "### Can we predict the weather and road conditions of a given severity road accident?  "
        },
        {
            "cell_type": "raw",
            "metadata": {},
            "source": "No.\n"
        },
        {
            "cell_type": "raw",
            "metadata": {},
            "source": "At this point, we realize that automating the process of warning people about the possibility of getting into a road collision and how severe it would be based on the weather and the road conditions is not a straightforward problem as we need to come up with a way that is very robust to the many variations of weathers and road conditions we can have.\n\nSince the business problem has been clearly stated, the analytic approach step entails expressing the problem in the context of statistical and machine-learning techniques, so that the entity or stakeholders with the problem can identify the most suitable techniques for the desired outcome."
        },
        {
            "cell_type": "markdown",
            "metadata": {},
            "source": "### Can we predict the severity of a road accident based on the weather and road conditions?"
        },
        {
            "cell_type": "raw",
            "metadata": {},
            "source": "Yes.\n"
        },
        {
            "cell_type": "raw",
            "metadata": {},
            "source": "In this case study according to the goal, it is a supervised machine learning problem. The suitable models for the discrete dependant variable \"severity\" are classification models like: K-Nearest Neighbours (KNN), Decision tree and SVM. Those three models will be applied and the model with the best accuracy value will be retained as the final model.\n"
        },
        {
            "cell_type": "markdown",
            "metadata": {},
            "source": "## A description of the data and how it will be used to solve the problem"
        },
        {
            "cell_type": "markdown",
            "metadata": {},
            "source": "<img src=\"https://www.blueprintcpd.com.au/sites/default/files/blog/understanding-your-business-cpd_points.jpg\">"
        },
        {
            "cell_type": "markdown",
            "metadata": {},
            "source": "### STEP 1: Data description"
        },
        {
            "cell_type": "markdown",
            "metadata": {},
            "source": "\n*\tWho: the data concern road collisions involving car, bicycle, pedestrian and vehicle.\n*\tWhat: the data measure the severity of the road accidents based on the weather and the road conditions \n*\tWhere: the data are collected on Seattle city in the state of Washington. The data are provided by SPD, recorded by Traffic Records and updated weekly\n*\tWhen: The period of collection is from 2004 to nowadays\n*\tWhy: the data are collected in order to analyse them, find a solution to prevent road collision and ensure more road security. \n\n**The conclusion of this study could help the road security services of the city to put some measures in order to avoid or limit road collisions and more empower the drivers.** \n"
        },
        {
            "cell_type": "markdown",
            "metadata": {},
            "source": "*\tCriteria for data requirements: data selected should be on road collisions \n*   The data are in csv format\n*   The dataset contain 36 attributes and one labeled or target dependant variable \u201cseverity\u201d which is not a balanced labeled.\n*   The target or label columns should be accident \"severity\" in terms of human fatality, traffic delay, property damage, or any other type of accident bad impact. \n*   Data Types are: Float64, int64 and object\n*   There are 194673 lines of data\n*   Each line refers to a single road collision to be suitable to the models.\n*   There are 19 Attributes with missing values as follow:\n\n        *  ST_COLCODE: 18 \t\t       ADDRTYPE: 1926 \t       LOCATION: 2677 \n        *  PEDROWNOTGRNT: 4667 \t       UNDERINFL: 4884 \t       ST_COLDESC: 4904\n        *  COLLISIONTYPE: 4904 \t       ROADCOND: 5012 \t       WEATHER: 5081 \n        *  LIGHTCOND: 5170 \t\t       Y: 5334 \t\t\t       X: 5334 \n        *  EXCEPTRSNDESC: 5638 \t       JUNCTIONTYPE: 6329 \t   SPEEDING: 9333 \n        *  INATTENTIONIND: 29805       INTKEY: 65070 \t\t   SDOTCOLNUM: 79737 \n        *  EXCEPTRSNCODE: 84811 \n\n**All the variables with more than 5% of missing value will be dropped.**\n"
        },
        {
            "cell_type": "markdown",
            "metadata": {},
            "source": "### STEP 2: How data will be used to solve the problem"
        },
        {
            "cell_type": "markdown",
            "metadata": {},
            "source": "*\tData will help to analyse and build the models.  We need extensive data of different collisions cases.\n*\tThe machine learning model should be able to predict accident \"severity\"\n*\tTo build a good model, the dataset should be rich and contain many observations (rows) and various attributes (columns)\n"
        },
        {
            "cell_type": "markdown",
            "metadata": {},
            "source": "Here are the steps that will be followed:\n*\tData wrangling: to identify and handle missing value, to standardize and normalize the data. If necessary binning and dummy some attributes.\n*\tData exploratory by analyzing individual Feature using visualization, descriptive statistical analysis, find correlation and causation between attributes.\n*\tModel development: A Model will help to understand the exact relationship between different variables and how these variables are used to predict the result.Three models (KNN, Decision trees, SVM) will be developed to predict the road collision severity using the variables or features. \n*\tModel Evaluation and refinement will be used to determine how accurate these predictions are and will help to choose the best model for the prediction."
        },
        {
            "cell_type": "code",
            "execution_count": 1,
            "metadata": {},
            "outputs": [],
            "source": "# Import libraries\n\nimport pandas as pd\nimport numpy as np"
        },
        {
            "cell_type": "code",
            "execution_count": 2,
            "metadata": {},
            "outputs": [
                {
                    "name": "stdout",
                    "output_type": "stream",
                    "text": "Hello Capstone Project Course!\n"
                }
            ],
            "source": "# Print a message\n\nprint(\"Hello Capstone Project Course!\")"
        }
    ],
    "metadata": {
        "kernelspec": {
            "display_name": "Python 3.6",
            "language": "python",
            "name": "python3"
        },
        "language_info": {
            "codemirror_mode": {
                "name": "ipython",
                "version": 3
            },
            "file_extension": ".py",
            "mimetype": "text/x-python",
            "name": "python",
            "nbconvert_exporter": "python",
            "pygments_lexer": "ipython3",
            "version": "3.6.9"
        }
    },
    "nbformat": 4,
    "nbformat_minor": 1
}