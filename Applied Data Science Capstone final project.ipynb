{
    "cells": [
        {
            "cell_type": "markdown",
            "metadata": {
                "collapsed": true
            },
            "source": "# DATA SCIENCE CAPSTONE PROJECT"
        },
        {
            "cell_type": "markdown",
            "metadata": {},
            "source": "This notebook intends to analyse the weather and the road conditions about the possibility of getting into a vehicle road accident and how severe it would be."
        },
        {
            "cell_type": "markdown",
            "metadata": {},
            "source": "# Analytic approach  "
        },
        {
            "cell_type": "markdown",
            "metadata": {},
            "source": "<div style=\"text-align: justify\"> Automate the process of warning people about the possibility of getting into a road collision and how severe it would be based on the weather and the road conditions is not a straightforward problem as we need to come up with a way that is very robust to the many variations of weathers and road conditions we can have.\n\nSince the business problem has been clearly stated, the analytic approach step entails expressing the problem in the context of statistical and machine-learning techniques, so that the entity or stakeholders with the problem can identify the most suitable techniques for the desired outcome."
        },
        {
            "cell_type": "markdown",
            "metadata": {},
            "source": "*\tWho: the data concern road collisions involving car, bicycle, pedestrian and vehicle.\n*\tWhat: the data measure the severity of the road accidents based on the weather and the road conditions \n*\tWhere: the data are collected on Seattle city in the state of Washington. The data are provided by SPD, recorded by Traffic Records and updated weekly\n*\tWhen: The period of collection is from 2004 to nowadays\n*\tWhy: Explained in the previous paragraph called _Interest_ "
        },
        {
            "cell_type": "markdown",
            "metadata": {},
            "source": "<div style=\"text-align: justify\"> In this case study according to the goal, it is a supervised machine learning problem. The suitable models for the discrete dependant variable \"severity\" are classification models like: K-Nearest Neighbours (KNN), Decision tree and SVM. Those three models will be applied and the model with the best accuracy value will be retained as the final model. So, Let's start with data description\n"
        },
        {
            "cell_type": "markdown",
            "metadata": {},
            "source": "## DATA DESCRIPTION"
        },
        {
            "cell_type": "code",
            "execution_count": 27,
            "metadata": {},
            "outputs": [],
            "source": "# Import libraries\n\nimport pandas as pd\nimport numpy as np"
        },
        {
            "cell_type": "code",
            "execution_count": 28,
            "metadata": {},
            "outputs": [
                {
                    "name": "stderr",
                    "output_type": "stream",
                    "text": "/opt/conda/envs/Python36/lib/python3.6/site-packages/IPython/core/interactiveshell.py:3020: DtypeWarning: Columns (33) have mixed types. Specify dtype option on import or set low_memory=False.\n  interactivity=interactivity, compiler=compiler, result=result)\n"
                }
            ],
            "source": "# Read data file\ndf = pd.read_csv(\"https://s3.us.cloud-object-storage.appdomain.cloud/cf-courses-data/CognitiveClass/DP0701EN/version-2/Data-Collisions.csv\")"
        },
        {
            "cell_type": "code",
            "execution_count": 29,
            "metadata": {},
            "outputs": [
                {
                    "data": {
                        "text/plain": "(194673, 38)"
                    },
                    "execution_count": 29,
                    "metadata": {},
                    "output_type": "execute_result"
                }
            ],
            "source": "# data shape: number of lines and columns\ndf.shape"
        },
        {
            "cell_type": "code",
            "execution_count": 30,
            "metadata": {},
            "outputs": [
                {
                    "name": "stdout",
                    "output_type": "stream",
                    "text": "Index(['SEVERITYCODE', 'X', 'Y', 'OBJECTID', 'INCKEY', 'COLDETKEY', 'REPORTNO',\n       'STATUS', 'ADDRTYPE', 'INTKEY', 'LOCATION', 'EXCEPTRSNCODE',\n       'EXCEPTRSNDESC', 'SEVERITYCODE.1', 'SEVERITYDESC', 'COLLISIONTYPE',\n       'PERSONCOUNT', 'PEDCOUNT', 'PEDCYLCOUNT', 'VEHCOUNT', 'INCDATE',\n       'INCDTTM', 'JUNCTIONTYPE', 'SDOT_COLCODE', 'SDOT_COLDESC',\n       'INATTENTIONIND', 'UNDERINFL', 'WEATHER', 'ROADCOND', 'LIGHTCOND',\n       'PEDROWNOTGRNT', 'SDOTCOLNUM', 'SPEEDING', 'ST_COLCODE', 'ST_COLDESC',\n       'SEGLANEKEY', 'CROSSWALKKEY', 'HITPARKEDCAR'],\n      dtype='object')\n"
                }
            ],
            "source": "# display columns' name\nprint(df.columns)"
        },
        {
            "cell_type": "code",
            "execution_count": 31,
            "metadata": {},
            "outputs": [
                {
                    "data": {
                        "text/html": "<div>\n<style scoped>\n    .dataframe tbody tr th:only-of-type {\n        vertical-align: middle;\n    }\n\n    .dataframe tbody tr th {\n        vertical-align: top;\n    }\n\n    .dataframe thead th {\n        text-align: right;\n    }\n</style>\n<table border=\"1\" class=\"dataframe\">\n  <thead>\n    <tr style=\"text-align: right;\">\n      <th></th>\n      <th>SEVERITYCODE</th>\n      <th>X</th>\n      <th>Y</th>\n      <th>OBJECTID</th>\n      <th>INCKEY</th>\n      <th>COLDETKEY</th>\n      <th>REPORTNO</th>\n      <th>STATUS</th>\n      <th>ADDRTYPE</th>\n      <th>INTKEY</th>\n      <th>...</th>\n      <th>ROADCOND</th>\n      <th>LIGHTCOND</th>\n      <th>PEDROWNOTGRNT</th>\n      <th>SDOTCOLNUM</th>\n      <th>SPEEDING</th>\n      <th>ST_COLCODE</th>\n      <th>ST_COLDESC</th>\n      <th>SEGLANEKEY</th>\n      <th>CROSSWALKKEY</th>\n      <th>HITPARKEDCAR</th>\n    </tr>\n  </thead>\n  <tbody>\n    <tr>\n      <th>0</th>\n      <td>2</td>\n      <td>-122.323148</td>\n      <td>47.703140</td>\n      <td>1</td>\n      <td>1307</td>\n      <td>1307</td>\n      <td>3502005</td>\n      <td>Matched</td>\n      <td>Intersection</td>\n      <td>37475.0</td>\n      <td>...</td>\n      <td>Wet</td>\n      <td>Daylight</td>\n      <td>NaN</td>\n      <td>NaN</td>\n      <td>NaN</td>\n      <td>10</td>\n      <td>Entering at angle</td>\n      <td>0</td>\n      <td>0</td>\n      <td>N</td>\n    </tr>\n    <tr>\n      <th>1</th>\n      <td>1</td>\n      <td>-122.347294</td>\n      <td>47.647172</td>\n      <td>2</td>\n      <td>52200</td>\n      <td>52200</td>\n      <td>2607959</td>\n      <td>Matched</td>\n      <td>Block</td>\n      <td>NaN</td>\n      <td>...</td>\n      <td>Wet</td>\n      <td>Dark - Street Lights On</td>\n      <td>NaN</td>\n      <td>6354039.0</td>\n      <td>NaN</td>\n      <td>11</td>\n      <td>From same direction - both going straight - bo...</td>\n      <td>0</td>\n      <td>0</td>\n      <td>N</td>\n    </tr>\n    <tr>\n      <th>2</th>\n      <td>1</td>\n      <td>-122.334540</td>\n      <td>47.607871</td>\n      <td>3</td>\n      <td>26700</td>\n      <td>26700</td>\n      <td>1482393</td>\n      <td>Matched</td>\n      <td>Block</td>\n      <td>NaN</td>\n      <td>...</td>\n      <td>Dry</td>\n      <td>Daylight</td>\n      <td>NaN</td>\n      <td>4323031.0</td>\n      <td>NaN</td>\n      <td>32</td>\n      <td>One parked--one moving</td>\n      <td>0</td>\n      <td>0</td>\n      <td>N</td>\n    </tr>\n    <tr>\n      <th>3</th>\n      <td>1</td>\n      <td>-122.334803</td>\n      <td>47.604803</td>\n      <td>4</td>\n      <td>1144</td>\n      <td>1144</td>\n      <td>3503937</td>\n      <td>Matched</td>\n      <td>Block</td>\n      <td>NaN</td>\n      <td>...</td>\n      <td>Dry</td>\n      <td>Daylight</td>\n      <td>NaN</td>\n      <td>NaN</td>\n      <td>NaN</td>\n      <td>23</td>\n      <td>From same direction - all others</td>\n      <td>0</td>\n      <td>0</td>\n      <td>N</td>\n    </tr>\n    <tr>\n      <th>4</th>\n      <td>2</td>\n      <td>-122.306426</td>\n      <td>47.545739</td>\n      <td>5</td>\n      <td>17700</td>\n      <td>17700</td>\n      <td>1807429</td>\n      <td>Matched</td>\n      <td>Intersection</td>\n      <td>34387.0</td>\n      <td>...</td>\n      <td>Wet</td>\n      <td>Daylight</td>\n      <td>NaN</td>\n      <td>4028032.0</td>\n      <td>NaN</td>\n      <td>10</td>\n      <td>Entering at angle</td>\n      <td>0</td>\n      <td>0</td>\n      <td>N</td>\n    </tr>\n  </tbody>\n</table>\n<p>5 rows \u00d7 38 columns</p>\n</div>",
                        "text/plain": "   SEVERITYCODE           X          Y  OBJECTID  INCKEY  COLDETKEY REPORTNO  \\\n0             2 -122.323148  47.703140         1    1307       1307  3502005   \n1             1 -122.347294  47.647172         2   52200      52200  2607959   \n2             1 -122.334540  47.607871         3   26700      26700  1482393   \n3             1 -122.334803  47.604803         4    1144       1144  3503937   \n4             2 -122.306426  47.545739         5   17700      17700  1807429   \n\n    STATUS      ADDRTYPE   INTKEY  ... ROADCOND                LIGHTCOND  \\\n0  Matched  Intersection  37475.0  ...      Wet                 Daylight   \n1  Matched         Block      NaN  ...      Wet  Dark - Street Lights On   \n2  Matched         Block      NaN  ...      Dry                 Daylight   \n3  Matched         Block      NaN  ...      Dry                 Daylight   \n4  Matched  Intersection  34387.0  ...      Wet                 Daylight   \n\n  PEDROWNOTGRNT  SDOTCOLNUM SPEEDING ST_COLCODE  \\\n0           NaN         NaN      NaN         10   \n1           NaN   6354039.0      NaN         11   \n2           NaN   4323031.0      NaN         32   \n3           NaN         NaN      NaN         23   \n4           NaN   4028032.0      NaN         10   \n\n                                          ST_COLDESC  SEGLANEKEY  \\\n0                                  Entering at angle           0   \n1  From same direction - both going straight - bo...           0   \n2                             One parked--one moving           0   \n3                   From same direction - all others           0   \n4                                  Entering at angle           0   \n\n   CROSSWALKKEY  HITPARKEDCAR  \n0             0             N  \n1             0             N  \n2             0             N  \n3             0             N  \n4             0             N  \n\n[5 rows x 38 columns]"
                    },
                    "execution_count": 31,
                    "metadata": {},
                    "output_type": "execute_result"
                }
            ],
            "source": "# Display top lines\ndf.head()"
        },
        {
            "cell_type": "code",
            "execution_count": 32,
            "metadata": {},
            "outputs": [
                {
                    "data": {
                        "text/plain": "SEVERITYCODE        int64\nX                 float64\nY                 float64\nOBJECTID            int64\nINCKEY              int64\nCOLDETKEY           int64\nREPORTNO           object\nSTATUS             object\nADDRTYPE           object\nINTKEY            float64\nLOCATION           object\nEXCEPTRSNCODE      object\nEXCEPTRSNDESC      object\nSEVERITYCODE.1      int64\nSEVERITYDESC       object\nCOLLISIONTYPE      object\nPERSONCOUNT         int64\nPEDCOUNT            int64\nPEDCYLCOUNT         int64\nVEHCOUNT            int64\nINCDATE            object\nINCDTTM            object\nJUNCTIONTYPE       object\nSDOT_COLCODE        int64\nSDOT_COLDESC       object\nINATTENTIONIND     object\nUNDERINFL          object\nWEATHER            object\nROADCOND           object\nLIGHTCOND          object\nPEDROWNOTGRNT      object\nSDOTCOLNUM        float64\nSPEEDING           object\nST_COLCODE         object\nST_COLDESC         object\nSEGLANEKEY          int64\nCROSSWALKKEY        int64\nHITPARKEDCAR       object\ndtype: object"
                    },
                    "execution_count": 32,
                    "metadata": {},
                    "output_type": "execute_result"
                }
            ],
            "source": "df.dtypes"
        },
        {
            "cell_type": "raw",
            "metadata": {},
            "source": "Data Types are: Float64, int64 and object"
        },
        {
            "cell_type": "markdown",
            "metadata": {},
            "source": "###  Identify and handle missing values"
        },
        {
            "cell_type": "code",
            "execution_count": 33,
            "metadata": {},
            "outputs": [
                {
                    "data": {
                        "text/plain": "SEVERITYCODE      194673\nX                 189339\nY                 189339\nOBJECTID          194673\nINCKEY            194673\nCOLDETKEY         194673\nREPORTNO          194673\nSTATUS            194673\nADDRTYPE          192747\nINTKEY             65070\nLOCATION          191996\nEXCEPTRSNCODE      84811\nEXCEPTRSNDESC       5638\nSEVERITYCODE.1    194673\nSEVERITYDESC      194673\nCOLLISIONTYPE     189769\nPERSONCOUNT       194673\nPEDCOUNT          194673\nPEDCYLCOUNT       194673\nVEHCOUNT          194673\nINCDATE           194673\nINCDTTM           194673\nJUNCTIONTYPE      188344\nSDOT_COLCODE      194673\nSDOT_COLDESC      194673\nINATTENTIONIND     29805\nUNDERINFL         189789\nWEATHER           189592\nROADCOND          189661\nLIGHTCOND         189503\nPEDROWNOTGRNT       4667\nSDOTCOLNUM        114936\nSPEEDING            9333\nST_COLCODE        194655\nST_COLDESC        189769\nSEGLANEKEY        194673\nCROSSWALKKEY      194673\nHITPARKEDCAR      194673\ndtype: int64"
                    },
                    "execution_count": 33,
                    "metadata": {},
                    "output_type": "execute_result"
                }
            ],
            "source": "df.count()"
        },
        {
            "cell_type": "code",
            "execution_count": 34,
            "metadata": {},
            "outputs": [
                {
                    "name": "stdout",
                    "output_type": "stream",
                    "text": "SEVERITYCODE\nFalse    1.0\nName: SEVERITYCODE, dtype: float64\n\nX\nFalse    0.9726\nTrue     0.0274\nName: X, dtype: float64\n\nY\nFalse    0.9726\nTrue     0.0274\nName: Y, dtype: float64\n\nOBJECTID\nFalse    1.0\nName: OBJECTID, dtype: float64\n\nINCKEY\nFalse    1.0\nName: INCKEY, dtype: float64\n\nCOLDETKEY\nFalse    1.0\nName: COLDETKEY, dtype: float64\n\nREPORTNO\nFalse    1.0\nName: REPORTNO, dtype: float64\n\nSTATUS\nFalse    1.0\nName: STATUS, dtype: float64\n\nADDRTYPE\nFalse    0.990106\nTrue     0.009894\nName: ADDRTYPE, dtype: float64\n\nINTKEY\nTrue     0.665747\nFalse    0.334253\nName: INTKEY, dtype: float64\n\nLOCATION\nFalse    0.986249\nTrue     0.013751\nName: LOCATION, dtype: float64\n\nEXCEPTRSNCODE\nTrue     0.971039\nFalse    0.028961\nName: EXCEPTRSNCODE, dtype: float64\n\nEXCEPTRSNDESC\nTrue     0.971039\nFalse    0.028961\nName: EXCEPTRSNDESC, dtype: float64\n\nSEVERITYCODE.1\nFalse    1.0\nName: SEVERITYCODE.1, dtype: float64\n\nSEVERITYDESC\nFalse    1.0\nName: SEVERITYDESC, dtype: float64\n\nCOLLISIONTYPE\nFalse    0.974809\nTrue     0.025191\nName: COLLISIONTYPE, dtype: float64\n\nPERSONCOUNT\nFalse    1.0\nName: PERSONCOUNT, dtype: float64\n\nPEDCOUNT\nFalse    1.0\nName: PEDCOUNT, dtype: float64\n\nPEDCYLCOUNT\nFalse    1.0\nName: PEDCYLCOUNT, dtype: float64\n\nVEHCOUNT\nFalse    1.0\nName: VEHCOUNT, dtype: float64\n\nINCDATE\nFalse    1.0\nName: INCDATE, dtype: float64\n\nINCDTTM\nFalse    1.0\nName: INCDTTM, dtype: float64\n\nJUNCTIONTYPE\nFalse    0.967489\nTrue     0.032511\nName: JUNCTIONTYPE, dtype: float64\n\nSDOT_COLCODE\nFalse    1.0\nName: SDOT_COLCODE, dtype: float64\n\nSDOT_COLDESC\nFalse    1.0\nName: SDOT_COLDESC, dtype: float64\n\nINATTENTIONIND\nTrue     0.846897\nFalse    0.153103\nName: INATTENTIONIND, dtype: float64\n\nUNDERINFL\nFalse    0.974912\nTrue     0.025088\nName: UNDERINFL, dtype: float64\n\nWEATHER\nFalse    0.9739\nTrue     0.0261\nName: WEATHER, dtype: float64\n\nROADCOND\nFalse    0.974254\nTrue     0.025746\nName: ROADCOND, dtype: float64\n\nLIGHTCOND\nFalse    0.973443\nTrue     0.026557\nName: LIGHTCOND, dtype: float64\n\nPEDROWNOTGRNT\nTrue     0.976026\nFalse    0.023974\nName: PEDROWNOTGRNT, dtype: float64\n\nSDOTCOLNUM\nFalse    0.590405\nTrue     0.409595\nName: SDOTCOLNUM, dtype: float64\n\nSPEEDING\nTrue     0.952058\nFalse    0.047942\nName: SPEEDING, dtype: float64\n\nST_COLCODE\nFalse    0.974809\nTrue     0.025191\nName: ST_COLCODE, dtype: float64\n\nST_COLDESC\nFalse    0.974809\nTrue     0.025191\nName: ST_COLDESC, dtype: float64\n\nSEGLANEKEY\nFalse    1.0\nName: SEGLANEKEY, dtype: float64\n\nCROSSWALKKEY\nFalse    1.0\nName: CROSSWALKKEY, dtype: float64\n\nHITPARKEDCAR\nFalse    1.0\nName: HITPARKEDCAR, dtype: float64\n\n"
                }
            ],
            "source": "# Identify missing values\n\ndf.replace(\"?\", np.nan, inplace = True)\ndf.replace(\" \", np.nan, inplace = True)\nmissing_data = df.isnull()\nnotmissind_data = df.notnull()\n\n# Count missing values\nfor column in missing_data.columns.values.tolist():\n    print(column)\n    print (missing_data[column].value_counts(normalize=True))\n    print(\"\") "
        },
        {
            "cell_type": "markdown",
            "metadata": {},
            "source": "There are 19 Attributes with missing values as follow:\n\n        *  ST_COLCODE: 2.5% \t\t        * ADDRTYPE: 1% \t       * LOCATION: 1.4% \n        *  PEDROWNOTGRNT: 97.6% \t       *  UNDERINFL: 2.5% \t     \n        *  COLLISIONTYPE: 2.5% \t        *   ROADCOND: 2.6% \t       * WEATHER: 2.6% \n        *  LIGHTCOND: 2.6% \t\t         * Y: 2.7% \t\t\t      * X: 2.3% \n        *  EXCEPTRSNDESC: 97.1% \t       * JUNCTIONTYPE: 3.2% \t   * SPEEDING: 95.2% \n        *  INATTENTIONIND: 84.7%          * INTKEY: 66.6% \t\t    * SDOTCOLNUM: 40.9% \n        *  EXCEPTRSNCODE: 97.1%         * ST_COLDESC: 2.5%\n\n**All the variables with more than 5% of missing value will be dropped.**\n"
        },
        {
            "cell_type": "code",
            "execution_count": 35,
            "metadata": {},
            "outputs": [
                {
                    "data": {
                        "text/plain": "(194673, 31)"
                    },
                    "execution_count": 35,
                    "metadata": {},
                    "output_type": "execute_result"
                }
            ],
            "source": "# Drop all the variables with more than 5% of missing values\n\ndf.drop([\"INATTENTIONIND\", \"INTKEY\", \"SDOTCOLNUM\", \"EXCEPTRSNCODE\", \"EXCEPTRSNDESC\", \"PEDROWNOTGRNT\", \"SPEEDING\"], axis=1,inplace=True)\n\ndf.shape"
        },
        {
            "cell_type": "code",
            "execution_count": 36,
            "metadata": {},
            "outputs": [],
            "source": "# Replace missing values by 'Unknown'\n\ndf['WEATHER'].replace(np.nan,'Unknown', inplace=True)\ndf['ROADCOND'].replace(np.nan,'Unknown', inplace=True)\n\ndf['LIGHTCOND'].replace(np.nan,'Unknown', inplace=True)\ndf['LOCATION'].replace(np.nan,'Unknown', inplace=True)\n\ndf['JUNCTIONTYPE'].replace(np.nan,'Unknown', inplace=True)\ndf['ADDRTYPE'].replace(np.nan,'Unknown', inplace=True)\ndf['ST_COLDESC'].replace(np.nan,'Unknown', inplace=True)\ndf['COLLISIONTYPE'].replace(np.nan,'Unknown', inplace=True)"
        },
        {
            "cell_type": "code",
            "execution_count": 37,
            "metadata": {},
            "outputs": [],
            "source": "# Deal with missing values on the variables ST_COLCODE and UNDERINFL\n\ndf[\"ST_COLCODE\"].replace(np.nan, 99, inplace=True)\ndf['UNDERINFL'].replace(np.nan,9, inplace=True)"
        },
        {
            "cell_type": "markdown",
            "metadata": {},
            "source": "### Binning variables"
        },
        {
            "cell_type": "code",
            "execution_count": 38,
            "metadata": {},
            "outputs": [],
            "source": "# Binning categorial variables.\ndf['HITPARKEDCAR'].replace(to_replace=['N','Y'], value=[0,1],inplace=True)\ndf['UNDERINFL'].replace(to_replace=['0','1'], value=[0,1],inplace=True)\ndf['UNDERINFL'].replace(to_replace=['N','Y'], value=[0,1],inplace=True)\n\ndf['STATUS'].replace(to_replace=['Unmatched', 'Matched'], value=[0,1],inplace=True)"
        },
        {
            "cell_type": "code",
            "execution_count": 39,
            "metadata": {},
            "outputs": [
                {
                    "data": {
                        "text/html": "<div>\n<style scoped>\n    .dataframe tbody tr th:only-of-type {\n        vertical-align: middle;\n    }\n\n    .dataframe tbody tr th {\n        vertical-align: top;\n    }\n\n    .dataframe thead th {\n        text-align: right;\n    }\n</style>\n<table border=\"1\" class=\"dataframe\">\n  <thead>\n    <tr style=\"text-align: right;\">\n      <th></th>\n      <th>SEVERITYCODE</th>\n      <th>X</th>\n      <th>Y</th>\n      <th>OBJECTID</th>\n      <th>INCKEY</th>\n      <th>COLDETKEY</th>\n      <th>STATUS</th>\n      <th>SEVERITYCODE.1</th>\n      <th>PERSONCOUNT</th>\n      <th>PEDCOUNT</th>\n      <th>PEDCYLCOUNT</th>\n      <th>VEHCOUNT</th>\n      <th>SDOT_COLCODE</th>\n      <th>UNDERINFL</th>\n      <th>SEGLANEKEY</th>\n      <th>CROSSWALKKEY</th>\n      <th>HITPARKEDCAR</th>\n    </tr>\n  </thead>\n  <tbody>\n    <tr>\n      <th>SEVERITYCODE</th>\n      <td>1.000000</td>\n      <td>0.010309</td>\n      <td>0.017737</td>\n      <td>0.020131</td>\n      <td>0.022065</td>\n      <td>0.022079</td>\n      <td>0.030967</td>\n      <td>1.000000</td>\n      <td>0.130949</td>\n      <td>0.246338</td>\n      <td>0.214218</td>\n      <td>-0.054686</td>\n      <td>0.188905</td>\n      <td>-0.024107</td>\n      <td>0.104276</td>\n      <td>0.175093</td>\n      <td>-0.101498</td>\n    </tr>\n    <tr>\n      <th>X</th>\n      <td>0.010309</td>\n      <td>1.000000</td>\n      <td>-0.160262</td>\n      <td>0.009956</td>\n      <td>0.010309</td>\n      <td>0.010300</td>\n      <td>0.002805</td>\n      <td>0.010309</td>\n      <td>0.012887</td>\n      <td>0.011304</td>\n      <td>-0.001752</td>\n      <td>-0.012168</td>\n      <td>0.010904</td>\n      <td>-0.007413</td>\n      <td>-0.001618</td>\n      <td>0.013586</td>\n      <td>-0.016511</td>\n    </tr>\n    <tr>\n      <th>Y</th>\n      <td>0.017737</td>\n      <td>-0.160262</td>\n      <td>1.000000</td>\n      <td>-0.023848</td>\n      <td>-0.027396</td>\n      <td>-0.027415</td>\n      <td>-0.001490</td>\n      <td>0.017737</td>\n      <td>-0.013850</td>\n      <td>0.010178</td>\n      <td>0.026304</td>\n      <td>0.017058</td>\n      <td>-0.019694</td>\n      <td>0.000498</td>\n      <td>0.004618</td>\n      <td>0.009508</td>\n      <td>-0.012557</td>\n    </tr>\n    <tr>\n      <th>OBJECTID</th>\n      <td>0.020131</td>\n      <td>0.009956</td>\n      <td>-0.023848</td>\n      <td>1.000000</td>\n      <td>0.946383</td>\n      <td>0.945837</td>\n      <td>-0.163938</td>\n      <td>0.020131</td>\n      <td>-0.062333</td>\n      <td>0.024604</td>\n      <td>0.034432</td>\n      <td>-0.094280</td>\n      <td>-0.037094</td>\n      <td>0.162571</td>\n      <td>0.028076</td>\n      <td>0.056046</td>\n      <td>0.230437</td>\n    </tr>\n    <tr>\n      <th>INCKEY</th>\n      <td>0.022065</td>\n      <td>0.010309</td>\n      <td>-0.027396</td>\n      <td>0.946383</td>\n      <td>1.000000</td>\n      <td>0.999996</td>\n      <td>-0.192216</td>\n      <td>0.022065</td>\n      <td>-0.061500</td>\n      <td>0.024918</td>\n      <td>0.031342</td>\n      <td>-0.107528</td>\n      <td>-0.027617</td>\n      <td>0.190480</td>\n      <td>0.019701</td>\n      <td>0.048179</td>\n      <td>0.254739</td>\n    </tr>\n    <tr>\n      <th>COLDETKEY</th>\n      <td>0.022079</td>\n      <td>0.010300</td>\n      <td>-0.027415</td>\n      <td>0.945837</td>\n      <td>0.999996</td>\n      <td>1.000000</td>\n      <td>-0.192383</td>\n      <td>0.022079</td>\n      <td>-0.061403</td>\n      <td>0.024914</td>\n      <td>0.031296</td>\n      <td>-0.107598</td>\n      <td>-0.027461</td>\n      <td>0.190649</td>\n      <td>0.019586</td>\n      <td>0.048063</td>\n      <td>0.254789</td>\n    </tr>\n    <tr>\n      <th>STATUS</th>\n      <td>0.030967</td>\n      <td>0.002805</td>\n      <td>-0.001490</td>\n      <td>-0.163938</td>\n      <td>-0.192216</td>\n      <td>-0.192383</td>\n      <td>1.000000</td>\n      <td>0.030967</td>\n      <td>0.067552</td>\n      <td>0.030077</td>\n      <td>0.027214</td>\n      <td>0.488122</td>\n      <td>0.053607</td>\n      <td>-0.988498</td>\n      <td>0.005654</td>\n      <td>0.009867</td>\n      <td>-0.020309</td>\n    </tr>\n    <tr>\n      <th>SEVERITYCODE.1</th>\n      <td>1.000000</td>\n      <td>0.010309</td>\n      <td>0.017737</td>\n      <td>0.020131</td>\n      <td>0.022065</td>\n      <td>0.022079</td>\n      <td>0.030967</td>\n      <td>1.000000</td>\n      <td>0.130949</td>\n      <td>0.246338</td>\n      <td>0.214218</td>\n      <td>-0.054686</td>\n      <td>0.188905</td>\n      <td>-0.024107</td>\n      <td>0.104276</td>\n      <td>0.175093</td>\n      <td>-0.101498</td>\n    </tr>\n    <tr>\n      <th>PERSONCOUNT</th>\n      <td>0.130949</td>\n      <td>0.012887</td>\n      <td>-0.013850</td>\n      <td>-0.062333</td>\n      <td>-0.061500</td>\n      <td>-0.061403</td>\n      <td>0.067552</td>\n      <td>0.130949</td>\n      <td>1.000000</td>\n      <td>-0.023464</td>\n      <td>-0.038809</td>\n      <td>0.380523</td>\n      <td>-0.128960</td>\n      <td>-0.063650</td>\n      <td>-0.021383</td>\n      <td>-0.032258</td>\n      <td>-0.052766</td>\n    </tr>\n    <tr>\n      <th>PEDCOUNT</th>\n      <td>0.246338</td>\n      <td>0.011304</td>\n      <td>0.010178</td>\n      <td>0.024604</td>\n      <td>0.024918</td>\n      <td>0.024914</td>\n      <td>0.030077</td>\n      <td>0.246338</td>\n      <td>-0.023464</td>\n      <td>1.000000</td>\n      <td>-0.016920</td>\n      <td>-0.261285</td>\n      <td>0.260393</td>\n      <td>-0.027414</td>\n      <td>0.001810</td>\n      <td>0.565326</td>\n      <td>-0.035264</td>\n    </tr>\n    <tr>\n      <th>PEDCYLCOUNT</th>\n      <td>0.214218</td>\n      <td>-0.001752</td>\n      <td>0.026304</td>\n      <td>0.034432</td>\n      <td>0.031342</td>\n      <td>0.031296</td>\n      <td>0.027214</td>\n      <td>0.214218</td>\n      <td>-0.038809</td>\n      <td>-0.016920</td>\n      <td>1.000000</td>\n      <td>-0.253773</td>\n      <td>0.382521</td>\n      <td>-0.029493</td>\n      <td>0.453657</td>\n      <td>0.109820</td>\n      <td>-0.030187</td>\n    </tr>\n    <tr>\n      <th>VEHCOUNT</th>\n      <td>-0.054686</td>\n      <td>-0.012168</td>\n      <td>0.017058</td>\n      <td>-0.094280</td>\n      <td>-0.107528</td>\n      <td>-0.107598</td>\n      <td>0.488122</td>\n      <td>-0.054686</td>\n      <td>0.380523</td>\n      <td>-0.261285</td>\n      <td>-0.253773</td>\n      <td>1.000000</td>\n      <td>-0.365814</td>\n      <td>-0.484424</td>\n      <td>-0.122941</td>\n      <td>-0.200526</td>\n      <td>0.048845</td>\n    </tr>\n    <tr>\n      <th>SDOT_COLCODE</th>\n      <td>0.188905</td>\n      <td>0.010904</td>\n      <td>-0.019694</td>\n      <td>-0.037094</td>\n      <td>-0.027617</td>\n      <td>-0.027461</td>\n      <td>0.053607</td>\n      <td>0.188905</td>\n      <td>-0.128960</td>\n      <td>0.260393</td>\n      <td>0.382521</td>\n      <td>-0.365814</td>\n      <td>1.000000</td>\n      <td>-0.037353</td>\n      <td>0.206835</td>\n      <td>0.189518</td>\n      <td>-0.095144</td>\n    </tr>\n    <tr>\n      <th>UNDERINFL</th>\n      <td>-0.024107</td>\n      <td>-0.007413</td>\n      <td>0.000498</td>\n      <td>0.162571</td>\n      <td>0.190480</td>\n      <td>0.190649</td>\n      <td>-0.988498</td>\n      <td>-0.024107</td>\n      <td>-0.063650</td>\n      <td>-0.027414</td>\n      <td>-0.029493</td>\n      <td>-0.484424</td>\n      <td>-0.037353</td>\n      <td>1.000000</td>\n      <td>-0.006862</td>\n      <td>-0.011213</td>\n      <td>0.021730</td>\n    </tr>\n    <tr>\n      <th>SEGLANEKEY</th>\n      <td>0.104276</td>\n      <td>-0.001618</td>\n      <td>0.004618</td>\n      <td>0.028076</td>\n      <td>0.019701</td>\n      <td>0.019586</td>\n      <td>0.005654</td>\n      <td>0.104276</td>\n      <td>-0.021383</td>\n      <td>0.001810</td>\n      <td>0.453657</td>\n      <td>-0.122941</td>\n      <td>0.206835</td>\n      <td>-0.006862</td>\n      <td>1.000000</td>\n      <td>-0.003422</td>\n      <td>-0.015144</td>\n    </tr>\n    <tr>\n      <th>CROSSWALKKEY</th>\n      <td>0.175093</td>\n      <td>0.013586</td>\n      <td>0.009508</td>\n      <td>0.056046</td>\n      <td>0.048179</td>\n      <td>0.048063</td>\n      <td>0.009867</td>\n      <td>0.175093</td>\n      <td>-0.032258</td>\n      <td>0.565326</td>\n      <td>0.109820</td>\n      <td>-0.200526</td>\n      <td>0.189518</td>\n      <td>-0.011213</td>\n      <td>-0.003422</td>\n      <td>1.000000</td>\n      <td>-0.026558</td>\n    </tr>\n    <tr>\n      <th>HITPARKEDCAR</th>\n      <td>-0.101498</td>\n      <td>-0.016511</td>\n      <td>-0.012557</td>\n      <td>0.230437</td>\n      <td>0.254739</td>\n      <td>0.254789</td>\n      <td>-0.020309</td>\n      <td>-0.101498</td>\n      <td>-0.052766</td>\n      <td>-0.035264</td>\n      <td>-0.030187</td>\n      <td>0.048845</td>\n      <td>-0.095144</td>\n      <td>0.021730</td>\n      <td>-0.015144</td>\n      <td>-0.026558</td>\n      <td>1.000000</td>\n    </tr>\n  </tbody>\n</table>\n</div>",
                        "text/plain": "                SEVERITYCODE         X         Y  OBJECTID    INCKEY  \\\nSEVERITYCODE        1.000000  0.010309  0.017737  0.020131  0.022065   \nX                   0.010309  1.000000 -0.160262  0.009956  0.010309   \nY                   0.017737 -0.160262  1.000000 -0.023848 -0.027396   \nOBJECTID            0.020131  0.009956 -0.023848  1.000000  0.946383   \nINCKEY              0.022065  0.010309 -0.027396  0.946383  1.000000   \nCOLDETKEY           0.022079  0.010300 -0.027415  0.945837  0.999996   \nSTATUS              0.030967  0.002805 -0.001490 -0.163938 -0.192216   \nSEVERITYCODE.1      1.000000  0.010309  0.017737  0.020131  0.022065   \nPERSONCOUNT         0.130949  0.012887 -0.013850 -0.062333 -0.061500   \nPEDCOUNT            0.246338  0.011304  0.010178  0.024604  0.024918   \nPEDCYLCOUNT         0.214218 -0.001752  0.026304  0.034432  0.031342   \nVEHCOUNT           -0.054686 -0.012168  0.017058 -0.094280 -0.107528   \nSDOT_COLCODE        0.188905  0.010904 -0.019694 -0.037094 -0.027617   \nUNDERINFL          -0.024107 -0.007413  0.000498  0.162571  0.190480   \nSEGLANEKEY          0.104276 -0.001618  0.004618  0.028076  0.019701   \nCROSSWALKKEY        0.175093  0.013586  0.009508  0.056046  0.048179   \nHITPARKEDCAR       -0.101498 -0.016511 -0.012557  0.230437  0.254739   \n\n                COLDETKEY    STATUS  SEVERITYCODE.1  PERSONCOUNT  PEDCOUNT  \\\nSEVERITYCODE     0.022079  0.030967        1.000000     0.130949  0.246338   \nX                0.010300  0.002805        0.010309     0.012887  0.011304   \nY               -0.027415 -0.001490        0.017737    -0.013850  0.010178   \nOBJECTID         0.945837 -0.163938        0.020131    -0.062333  0.024604   \nINCKEY           0.999996 -0.192216        0.022065    -0.061500  0.024918   \nCOLDETKEY        1.000000 -0.192383        0.022079    -0.061403  0.024914   \nSTATUS          -0.192383  1.000000        0.030967     0.067552  0.030077   \nSEVERITYCODE.1   0.022079  0.030967        1.000000     0.130949  0.246338   \nPERSONCOUNT     -0.061403  0.067552        0.130949     1.000000 -0.023464   \nPEDCOUNT         0.024914  0.030077        0.246338    -0.023464  1.000000   \nPEDCYLCOUNT      0.031296  0.027214        0.214218    -0.038809 -0.016920   \nVEHCOUNT        -0.107598  0.488122       -0.054686     0.380523 -0.261285   \nSDOT_COLCODE    -0.027461  0.053607        0.188905    -0.128960  0.260393   \nUNDERINFL        0.190649 -0.988498       -0.024107    -0.063650 -0.027414   \nSEGLANEKEY       0.019586  0.005654        0.104276    -0.021383  0.001810   \nCROSSWALKKEY     0.048063  0.009867        0.175093    -0.032258  0.565326   \nHITPARKEDCAR     0.254789 -0.020309       -0.101498    -0.052766 -0.035264   \n\n                PEDCYLCOUNT  VEHCOUNT  SDOT_COLCODE  UNDERINFL  SEGLANEKEY  \\\nSEVERITYCODE       0.214218 -0.054686      0.188905  -0.024107    0.104276   \nX                 -0.001752 -0.012168      0.010904  -0.007413   -0.001618   \nY                  0.026304  0.017058     -0.019694   0.000498    0.004618   \nOBJECTID           0.034432 -0.094280     -0.037094   0.162571    0.028076   \nINCKEY             0.031342 -0.107528     -0.027617   0.190480    0.019701   \nCOLDETKEY          0.031296 -0.107598     -0.027461   0.190649    0.019586   \nSTATUS             0.027214  0.488122      0.053607  -0.988498    0.005654   \nSEVERITYCODE.1     0.214218 -0.054686      0.188905  -0.024107    0.104276   \nPERSONCOUNT       -0.038809  0.380523     -0.128960  -0.063650   -0.021383   \nPEDCOUNT          -0.016920 -0.261285      0.260393  -0.027414    0.001810   \nPEDCYLCOUNT        1.000000 -0.253773      0.382521  -0.029493    0.453657   \nVEHCOUNT          -0.253773  1.000000     -0.365814  -0.484424   -0.122941   \nSDOT_COLCODE       0.382521 -0.365814      1.000000  -0.037353    0.206835   \nUNDERINFL         -0.029493 -0.484424     -0.037353   1.000000   -0.006862   \nSEGLANEKEY         0.453657 -0.122941      0.206835  -0.006862    1.000000   \nCROSSWALKKEY       0.109820 -0.200526      0.189518  -0.011213   -0.003422   \nHITPARKEDCAR      -0.030187  0.048845     -0.095144   0.021730   -0.015144   \n\n                CROSSWALKKEY  HITPARKEDCAR  \nSEVERITYCODE        0.175093     -0.101498  \nX                   0.013586     -0.016511  \nY                   0.009508     -0.012557  \nOBJECTID            0.056046      0.230437  \nINCKEY              0.048179      0.254739  \nCOLDETKEY           0.048063      0.254789  \nSTATUS              0.009867     -0.020309  \nSEVERITYCODE.1      0.175093     -0.101498  \nPERSONCOUNT        -0.032258     -0.052766  \nPEDCOUNT            0.565326     -0.035264  \nPEDCYLCOUNT         0.109820     -0.030187  \nVEHCOUNT           -0.200526      0.048845  \nSDOT_COLCODE        0.189518     -0.095144  \nUNDERINFL          -0.011213      0.021730  \nSEGLANEKEY         -0.003422     -0.015144  \nCROSSWALKKEY        1.000000     -0.026558  \nHITPARKEDCAR       -0.026558      1.000000  "
                    },
                    "execution_count": 39,
                    "metadata": {},
                    "output_type": "execute_result"
                }
            ],
            "source": "# Convert variables types\ndf[[\"HITPARKEDCAR\"]].astype(\"int\")\ndf[[\"UNDERINFL\"]].astype(\"int\")\ndf[[\"STATUS\"]].astype(\"int\")\ndf[[\"ST_COLCODE\"]].astype(\"int\")\n\n#  Correlation between quantitatives attributes\ndf.corr()"
        },
        {
            "cell_type": "raw",
            "metadata": {},
            "source": "There are many high correlated variables: redundants\n\nSEVERITYCODE and SEVERITYCODE.1: 1 identic columns AS df.['SEVERITYCODE']equals.df['SEVERITYCODE.1'] = True\nOBJECTID and INCKEY : 0.946383\nOBJECTID and COLDETKEY: 0.945837\nOBJECTID and SDOTCOLNUM: 0.969276\n\nLet's drop all high correlated variables"
        },
        {
            "cell_type": "code",
            "execution_count": 40,
            "metadata": {},
            "outputs": [],
            "source": "# Drop all high correlated variables\ndf.drop(['SEVERITYCODE.1','INCKEY', 'COLDETKEY'] , axis=1,inplace=True)"
        },
        {
            "cell_type": "code",
            "execution_count": 41,
            "metadata": {},
            "outputs": [
                {
                    "name": "stdout",
                    "output_type": "stream",
                    "text": "Number of unique REPORTNO 194670\nNumber of unique OBJECTID 194673\n"
                }
            ],
            "source": "# Number of unique values\n\nprint(\"Number of unique REPORTNO\", df['REPORTNO'].nunique())\nprint(\"Number of unique OBJECTID\", df['OBJECTID'].nunique())\n"
        },
        {
            "cell_type": "raw",
            "metadata": {},
            "source": "The variable OBJECTID and REPORTNO  are just ID\nMoreover, OBJECTID  and SEVERITYCODE are very weak correlated:0.020131\n\nLet's drop then drop OBJECTID and REPORTNO"
        },
        {
            "cell_type": "code",
            "execution_count": 42,
            "metadata": {},
            "outputs": [],
            "source": "df.drop(['REPORTNO', 'OBJECTID'] , axis=1,inplace=True)"
        },
        {
            "cell_type": "raw",
            "metadata": {},
            "source": "There are also weak correlated variables with target variable SEVERITYCODE\n\nSEVERITYCODE and X: 0.010309\nSEVERITYCODE and Y: 0.017737\nSEVERITYCODE and UNDERINFL: -0.024107\t\nSEVERITYCODE and STATUS: 0.030967\n\nLet's drop all weak (less than 5%) correlation between target variable and dependant variables."
        },
        {
            "cell_type": "code",
            "execution_count": 43,
            "metadata": {},
            "outputs": [],
            "source": "df.drop(['X', 'Y', 'UNDERINFL', 'STATUS'] , axis=1,inplace=True)"
        },
        {
            "cell_type": "code",
            "execution_count": 44,
            "metadata": {},
            "outputs": [
                {
                    "data": {
                        "text/plain": "SEVERITYCODE     194673\nADDRTYPE         194673\nLOCATION         194673\nSEVERITYDESC     194673\nCOLLISIONTYPE    194673\nPERSONCOUNT      194673\nPEDCOUNT         194673\nPEDCYLCOUNT      194673\nVEHCOUNT         194673\nINCDATE          194673\nINCDTTM          194673\nJUNCTIONTYPE     194673\nSDOT_COLCODE     194673\nSDOT_COLDESC     194673\nWEATHER          194673\nROADCOND         194673\nLIGHTCOND        194673\nST_COLCODE       194673\nST_COLDESC       194673\nSEGLANEKEY       194673\nCROSSWALKKEY     194673\nHITPARKEDCAR     194673\ndtype: int64"
                    },
                    "execution_count": 44,
                    "metadata": {},
                    "output_type": "execute_result"
                }
            ],
            "source": "df.count()"
        },
        {
            "cell_type": "code",
            "execution_count": 45,
            "metadata": {},
            "outputs": [
                {
                    "data": {
                        "text/html": "<div>\n<style scoped>\n    .dataframe tbody tr th:only-of-type {\n        vertical-align: middle;\n    }\n\n    .dataframe tbody tr th {\n        vertical-align: top;\n    }\n\n    .dataframe thead th {\n        text-align: right;\n    }\n</style>\n<table border=\"1\" class=\"dataframe\">\n  <thead>\n    <tr style=\"text-align: right;\">\n      <th></th>\n      <th>ADDRTYPE</th>\n      <th>LOCATION</th>\n      <th>SEVERITYDESC</th>\n      <th>COLLISIONTYPE</th>\n      <th>INCDATE</th>\n      <th>INCDTTM</th>\n      <th>JUNCTIONTYPE</th>\n      <th>SDOT_COLDESC</th>\n      <th>WEATHER</th>\n      <th>ROADCOND</th>\n      <th>LIGHTCOND</th>\n      <th>ST_COLCODE</th>\n      <th>ST_COLDESC</th>\n    </tr>\n  </thead>\n  <tbody>\n    <tr>\n      <th>count</th>\n      <td>194673</td>\n      <td>194673</td>\n      <td>194673</td>\n      <td>194673</td>\n      <td>194673</td>\n      <td>194673</td>\n      <td>194673</td>\n      <td>194673</td>\n      <td>194673</td>\n      <td>194673</td>\n      <td>194673</td>\n      <td>194673</td>\n      <td>194673</td>\n    </tr>\n    <tr>\n      <th>unique</th>\n      <td>4</td>\n      <td>24103</td>\n      <td>2</td>\n      <td>11</td>\n      <td>5985</td>\n      <td>162058</td>\n      <td>7</td>\n      <td>39</td>\n      <td>11</td>\n      <td>9</td>\n      <td>9</td>\n      <td>115</td>\n      <td>63</td>\n    </tr>\n    <tr>\n      <th>top</th>\n      <td>Block</td>\n      <td>Unknown</td>\n      <td>Property Damage Only Collision</td>\n      <td>Parked Car</td>\n      <td>2006/11/02 00:00:00+00</td>\n      <td>11/2/2006</td>\n      <td>Mid-Block (not related to intersection)</td>\n      <td>MOTOR VEHICLE STRUCK MOTOR VEHICLE, FRONT END ...</td>\n      <td>Clear</td>\n      <td>Dry</td>\n      <td>Daylight</td>\n      <td>32</td>\n      <td>One parked--one moving</td>\n    </tr>\n    <tr>\n      <th>freq</th>\n      <td>126926</td>\n      <td>2677</td>\n      <td>136485</td>\n      <td>47987</td>\n      <td>96</td>\n      <td>96</td>\n      <td>89800</td>\n      <td>85209</td>\n      <td>111135</td>\n      <td>124510</td>\n      <td>116137</td>\n      <td>27612</td>\n      <td>44421</td>\n    </tr>\n  </tbody>\n</table>\n</div>",
                        "text/plain": "       ADDRTYPE LOCATION                    SEVERITYDESC COLLISIONTYPE  \\\ncount    194673   194673                          194673        194673   \nunique        4    24103                               2            11   \ntop       Block  Unknown  Property Damage Only Collision    Parked Car   \nfreq     126926     2677                          136485         47987   \n\n                       INCDATE    INCDTTM  \\\ncount                   194673     194673   \nunique                    5985     162058   \ntop     2006/11/02 00:00:00+00  11/2/2006   \nfreq                        96         96   \n\n                                   JUNCTIONTYPE  \\\ncount                                    194673   \nunique                                        7   \ntop     Mid-Block (not related to intersection)   \nfreq                                      89800   \n\n                                             SDOT_COLDESC WEATHER ROADCOND  \\\ncount                                              194673  194673   194673   \nunique                                                 39      11        9   \ntop     MOTOR VEHICLE STRUCK MOTOR VEHICLE, FRONT END ...   Clear      Dry   \nfreq                                                85209  111135   124510   \n\n       LIGHTCOND ST_COLCODE              ST_COLDESC  \ncount     194673     194673                  194673  \nunique         9        115                      63  \ntop     Daylight         32  One parked--one moving  \nfreq      116137      27612                   44421  "
                    },
                    "execution_count": 45,
                    "metadata": {},
                    "output_type": "execute_result"
                }
            ],
            "source": "df.describe(include=['object'])"
        },
        {
            "cell_type": "markdown",
            "metadata": {},
            "source": "### At this point the extracted data for our data analysis are the following"
        },
        {
            "cell_type": "code",
            "execution_count": 46,
            "metadata": {},
            "outputs": [
                {
                    "name": "stdout",
                    "output_type": "stream",
                    "text": "Index(['SEVERITYCODE', 'ADDRTYPE', 'LOCATION', 'SEVERITYDESC', 'COLLISIONTYPE',\n       'PERSONCOUNT', 'PEDCOUNT', 'PEDCYLCOUNT', 'VEHCOUNT', 'INCDATE',\n       'INCDTTM', 'JUNCTIONTYPE', 'SDOT_COLCODE', 'SDOT_COLDESC', 'WEATHER',\n       'ROADCOND', 'LIGHTCOND', 'ST_COLCODE', 'ST_COLDESC', 'SEGLANEKEY',\n       'CROSSWALKKEY', 'HITPARKEDCAR'],\n      dtype='object')\n"
                }
            ],
            "source": "print(df.columns)"
        },
        {
            "cell_type": "code",
            "execution_count": 48,
            "metadata": {},
            "outputs": [
                {
                    "data": {
                        "text/html": "<div>\n<style scoped>\n    .dataframe tbody tr th:only-of-type {\n        vertical-align: middle;\n    }\n\n    .dataframe tbody tr th {\n        vertical-align: top;\n    }\n\n    .dataframe thead th {\n        text-align: right;\n    }\n</style>\n<table border=\"1\" class=\"dataframe\">\n  <thead>\n    <tr style=\"text-align: right;\">\n      <th></th>\n      <th>SEVERITYDESC</th>\n    </tr>\n  </thead>\n  <tbody>\n    <tr>\n      <th>Property Damage Only Collision</th>\n      <td>0.701099</td>\n    </tr>\n    <tr>\n      <th>Injury Collision</th>\n      <td>0.298901</td>\n    </tr>\n  </tbody>\n</table>\n</div>",
                        "text/plain": "                                SEVERITYDESC\nProperty Damage Only Collision      0.701099\nInjury Collision                    0.298901"
                    },
                    "execution_count": 48,
                    "metadata": {},
                    "output_type": "execute_result"
                }
            ],
            "source": "df['SEVERITYDESC'].value_counts(normalize=True).to_frame() \n"
        },
        {
            "cell_type": "raw",
            "metadata": {},
            "source": "7 accidents out of 10 are severity 1: Property Damage Only Collision"
        },
        {
            "cell_type": "code",
            "execution_count": 49,
            "metadata": {},
            "outputs": [
                {
                    "data": {
                        "text/html": "<div>\n<style scoped>\n    .dataframe tbody tr th:only-of-type {\n        vertical-align: middle;\n    }\n\n    .dataframe tbody tr th {\n        vertical-align: top;\n    }\n\n    .dataframe thead th {\n        text-align: right;\n    }\n</style>\n<table border=\"1\" class=\"dataframe\">\n  <thead>\n    <tr style=\"text-align: right;\">\n      <th></th>\n      <th>ADDRTYPE</th>\n    </tr>\n  </thead>\n  <tbody>\n    <tr>\n      <th>Block</th>\n      <td>0.651996</td>\n    </tr>\n    <tr>\n      <th>Intersection</th>\n      <td>0.334253</td>\n    </tr>\n    <tr>\n      <th>Unknown</th>\n      <td>0.009894</td>\n    </tr>\n    <tr>\n      <th>Alley</th>\n      <td>0.003858</td>\n    </tr>\n  </tbody>\n</table>\n</div>",
                        "text/plain": "              ADDRTYPE\nBlock         0.651996\nIntersection  0.334253\nUnknown       0.009894\nAlley         0.003858"
                    },
                    "execution_count": 49,
                    "metadata": {},
                    "output_type": "execute_result"
                }
            ],
            "source": "df['ADDRTYPE'].value_counts(normalize=True).to_frame()"
        },
        {
            "cell_type": "raw",
            "metadata": {},
            "source": "Almost 2 out of 3 accidents take place in a block."
        },
        {
            "cell_type": "code",
            "execution_count": 50,
            "metadata": {},
            "outputs": [
                {
                    "data": {
                        "text/html": "<div>\n<style scoped>\n    .dataframe tbody tr th:only-of-type {\n        vertical-align: middle;\n    }\n\n    .dataframe tbody tr th {\n        vertical-align: top;\n    }\n\n    .dataframe thead th {\n        text-align: right;\n    }\n</style>\n<table border=\"1\" class=\"dataframe\">\n  <thead>\n    <tr style=\"text-align: right;\">\n      <th></th>\n      <th>years</th>\n      <th>months</th>\n      <th>days</th>\n    </tr>\n  </thead>\n  <tbody>\n    <tr>\n      <th>0</th>\n      <td>2013</td>\n      <td>3</td>\n      <td>2</td>\n    </tr>\n    <tr>\n      <th>1</th>\n      <td>2006</td>\n      <td>12</td>\n      <td>2</td>\n    </tr>\n    <tr>\n      <th>2</th>\n      <td>2004</td>\n      <td>11</td>\n      <td>3</td>\n    </tr>\n    <tr>\n      <th>3</th>\n      <td>2013</td>\n      <td>3</td>\n      <td>4</td>\n    </tr>\n    <tr>\n      <th>4</th>\n      <td>2004</td>\n      <td>1</td>\n      <td>2</td>\n    </tr>\n  </tbody>\n</table>\n</div>",
                        "text/plain": "   years  months  days\n0   2013       3     2\n1   2006      12     2\n2   2004      11     3\n3   2013       3     4\n4   2004       1     2"
                    },
                    "execution_count": 50,
                    "metadata": {},
                    "output_type": "execute_result"
                }
            ],
            "source": "# Format the date\n\ndf['INCDTTM'] = pd.to_datetime(df['INCDTTM'])\ndf['days'] = df['INCDTTM'].dt.dayofweek\ndf['years'], df['months'] = df['INCDTTM'].dt.year, df['INCDTTM'].dt.month\ndf[['years','months', 'days']][0:5]\n#df['INCDATE'].equals(df['INCDTTM'])"
        },
        {
            "cell_type": "code",
            "execution_count": 51,
            "metadata": {},
            "outputs": [
                {
                    "data": {
                        "text/plain": "True"
                    },
                    "execution_count": 51,
                    "metadata": {},
                    "output_type": "execute_result"
                }
            ],
            "source": "# let's examine the types of the column labels for data visualization\nall(isinstance(column, str) for column in df.columns)\n\n#For consistency, ensure that all column labels of type string"
        },
        {
            "cell_type": "code",
            "execution_count": 56,
            "metadata": {},
            "outputs": [
                {
                    "name": "stdout",
                    "output_type": "stream",
                    "text": "years\n2004    11865\n2005    15115\n2006    15188\n2007    14456\n2008    13660\n2009    11734\n2010    10808\n2011    10919\n2012    10907\n2013    10577\n2014    11841\n2015    12995\n2016    11659\n2017    10873\n2018    10419\n2019     9412\n2020     2245\nName: SEVERITYCODE, dtype: int64\n"
                },
                {
                    "data": {
                        "text/plain": "<matplotlib.axes._subplots.AxesSubplot at 0x7f5af3dffc88>"
                    },
                    "execution_count": 56,
                    "metadata": {},
                    "output_type": "execute_result"
                },
                {
                    "data": {
                        "image/png": "[encoded data removed]",
                        "text/plain": "<Figure size 432x288 with 1 Axes>"
                    },
                    "metadata": {
                        "needs_background": "light"
                    },
                    "output_type": "display_data"
                }
            ],
            "source": "# we are using the inline backend\n%matplotlib inline \n\nimport matplotlib as mpl\nimport matplotlib.pyplot as plt\n\n\nacc_year = df.groupby(['years'])['SEVERITYCODE'].count()\n\nprint(acc_year)\nacc_year.plot(title='Number of Accidents per year')"
        },
        {
            "cell_type": "raw",
            "metadata": {},
            "source": "2006 has the highest number of accident and since that date, the number of accident has been constantly decreased."
        }
    ],
    "metadata": {
        "kernelspec": {
            "display_name": "Python 3.6",
            "language": "python",
            "name": "python3"
        },
        "language_info": {
            "codemirror_mode": {
                "name": "ipython",
                "version": 3
            },
            "file_extension": ".py",
            "mimetype": "text/x-python",
            "name": "python",
            "nbconvert_exporter": "python",
            "pygments_lexer": "ipython3",
            "version": "3.6.9"
        }
    },
    "nbformat": 4,
    "nbformat_minor": 1
}